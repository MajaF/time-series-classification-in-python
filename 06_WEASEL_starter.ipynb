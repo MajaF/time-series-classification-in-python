{
 "cells": [
  {
   "cell_type": "code",
   "execution_count": null,
   "id": "0e201bd6-bb9d-4c42-8fec-ef29ee11a7f8",
   "metadata": {},
   "outputs": [],
   "source": [
    "import warnings\n",
    "warnings.filterwarnings('ignore')\n",
    "\n",
    "import time\n",
    "import pandas as pd\n",
    "import numpy as np\n",
    "import matplotlib.pyplot as plt\n",
    "\n",
    "from sklearn.model_selection import GridSearchCV\n",
    "from sklearn.model_selection import KFold\n",
    "\n",
    "from sklearn.metrics import accuracy_score\n",
    "\n",
    "from sktime.datasets import load_basic_motions\n",
    "\n",
    "X_train, y_train = load_basic_motions(split='train', return_type='numpy3D')\n",
    "X_test, y_test = load_basic_motions(split='test', return_type='numpy3D')"
   ]
  },
  {
   "cell_type": "code",
   "execution_count": null,
   "id": "c8d409e6-84fb-44ae-ac03-d5f3684e933e",
   "metadata": {
    "scrolled": true
   },
   "outputs": [],
   "source": [
    "series_indices = [0, 10, 20, 30]\n",
    "categories = ['standing', 'running', 'walking', 'badminton']\n",
    "features = [\"accel_1\", \"accel_2\", \"accel_3\", \"gyro_1\", \"gyro_2\", \"gyro_3\"]\n",
    "\n",
    "selected_series = X_train[series_indices]\n",
    "\n",
    "fig, axes = plt.subplots(4, 1, figsize=(10, 18))\n",
    "\n",
    "for i in range(4):  \n",
    "    for j in range(selected_series.shape[1]):\n",
    "        axes[i].plot(selected_series[i, j], label=features[j])\n",
    "\n",
    "    axes[i].set_title(f\"Category: {categories[i]}\")\n",
    "    axes[i].set_xlabel(\"Time Steps\")\n",
    "    axes[i].set_ylabel(\"Values\")\n",
    "    axes[i].legend()\n",
    "\n",
    "plt.tight_layout()\n",
    "plt.show()"
   ]
  },
  {
   "cell_type": "code",
   "execution_count": null,
   "id": "a81fdbaf-f31c-4c76-9e12-9a25c8890b0b",
   "metadata": {},
   "outputs": [],
   "source": [
    "uni_X_train = X_train[:, 0:1, :]\n",
    "uni_X_test = X_test[:, 0:1, :]"
   ]
  },
  {
   "cell_type": "markdown",
   "id": "3f278e9e-5f2f-4c86-9781-11516e0494be",
   "metadata": {},
   "source": [
    "## WEASEL"
   ]
  },
  {
   "cell_type": "code",
   "execution_count": null,
   "id": "70eda2ba-4b63-4469-8693-d3a1275d707e",
   "metadata": {},
   "outputs": [],
   "source": [
    "from sktime.classification.dictionary_based import WEASEL\n",
    "\n",
    "start = time.time()\n",
    "\n",
    "# Initialize WEASEL\n",
    "\n",
    "# Parameters grid\n",
    "\n",
    "# Tune model\n",
    "\n",
    "# Fit tuned model\n",
    "\n",
    "# Make predictions\n",
    "\n",
    "end = time.time()\n",
    "\n",
    "print(f\"Elapsed time: {round(end-start,0)} seconds or {round((end-start)/60,1)} minutes\")\n",
    "print(tuned_weasel.best_params_)\n",
    "print(accuracy_score(y_test, y_pred))"
   ]
  },
  {
   "cell_type": "code",
   "execution_count": null,
   "id": "71aa91b0-4a92-43ba-9dfe-fc25724d3fa6",
   "metadata": {},
   "outputs": [],
   "source": []
  }
 ],
 "metadata": {
  "kernelspec": {
   "display_name": "Python 3 (ipykernel)",
   "language": "python",
   "name": "python3"
  },
  "language_info": {
   "codemirror_mode": {
    "name": "ipython",
    "version": 3
   },
   "file_extension": ".py",
   "mimetype": "text/x-python",
   "name": "python",
   "nbconvert_exporter": "python",
   "pygments_lexer": "ipython3",
   "version": "3.10.13"
  }
 },
 "nbformat": 4,
 "nbformat_minor": 5
}
