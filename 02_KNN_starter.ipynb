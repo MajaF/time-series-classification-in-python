{
 "cells": [
  {
   "cell_type": "code",
   "execution_count": null,
   "id": "a8e513f4-2859-4694-bb83-d4fc2d6e4881",
   "metadata": {},
   "outputs": [],
   "source": [
    "import pandas as pd\n",
    "import numpy as np\n",
    "import matplotlib.pyplot as plt\n",
    "\n",
    "from sktime.datasets import load_basic_motions\n",
    "\n",
    "X_train, y_train = load_basic_motions(split='train', return_type='numpy3D')\n",
    "X_test, y_test = load_basic_motions(split='test', return_type='numpy3D')"
   ]
  },
  {
   "cell_type": "code",
   "execution_count": null,
   "id": "b9b17381-ac58-44b2-aabe-9d77fca57e7b",
   "metadata": {},
   "outputs": [],
   "source": [
    "series_indices = [0, 10, 20, 30]\n",
    "categories = ['standing', 'running', 'walking', 'badminton']\n",
    "features = [\"accel_1\", \"accel_2\", \"accel_3\", \"gyro_1\", \"gyro_2\", \"gyro_3\"]\n",
    "\n",
    "selected_series = X_train[series_indices]\n",
    "\n",
    "fig, axes = plt.subplots(4, 1, figsize=(10, 18))\n",
    "\n",
    "for i in range(4):  \n",
    "    for j in range(selected_series.shape[1]):\n",
    "        axes[i].plot(selected_series[i, j], label=features[j])\n",
    "\n",
    "    axes[i].set_title(f\"Category: {categories[i]}\")\n",
    "    axes[i].set_xlabel(\"Time Steps\")\n",
    "    axes[i].set_ylabel(\"Values\")\n",
    "    axes[i].legend()\n",
    "\n",
    "plt.tight_layout()\n",
    "plt.show()"
   ]
  },
  {
   "cell_type": "markdown",
   "id": "c4ff7ef1-4741-481c-b5c1-7e0f389eafb5",
   "metadata": {},
   "source": [
    "## KNN"
   ]
  },
  {
   "cell_type": "code",
   "execution_count": null,
   "id": "89c72bbc-05b0-441a-852c-5110aabace93",
   "metadata": {},
   "outputs": [],
   "source": [
    "# Use KNN classifier\n"
   ]
  },
  {
   "cell_type": "code",
   "execution_count": null,
   "id": "2bd35519-9868-47eb-b033-ded847c0bcfa",
   "metadata": {},
   "outputs": [],
   "source": [
    "# Predict with KNN\n"
   ]
  },
  {
   "cell_type": "code",
   "execution_count": null,
   "id": "688e520c-969b-4139-9080-392191bfa70a",
   "metadata": {},
   "outputs": [],
   "source": [
    "# Measure accuracy\n"
   ]
  },
  {
   "cell_type": "markdown",
   "id": "ae83aed7-cb0c-4167-8f13-bac93a4c80d9",
   "metadata": {},
   "source": [
    "### Cross-validation"
   ]
  },
  {
   "cell_type": "code",
   "execution_count": null,
   "id": "94db0962-45a7-4f81-8e03-ed8d83c8d839",
   "metadata": {},
   "outputs": [],
   "source": [
    "# Cross-validation with KNN\n"
   ]
  },
  {
   "cell_type": "code",
   "execution_count": null,
   "id": "2d2a923b-bb21-416f-82c2-ea8618fa5df0",
   "metadata": {},
   "outputs": [],
   "source": []
  }
 ],
 "metadata": {
  "kernelspec": {
   "display_name": "Python 3 (ipykernel)",
   "language": "python",
   "name": "python3"
  },
  "language_info": {
   "codemirror_mode": {
    "name": "ipython",
    "version": 3
   },
   "file_extension": ".py",
   "mimetype": "text/x-python",
   "name": "python",
   "nbconvert_exporter": "python",
   "pygments_lexer": "ipython3",
   "version": "3.10.13"
  }
 },
 "nbformat": 4,
 "nbformat_minor": 5
}
