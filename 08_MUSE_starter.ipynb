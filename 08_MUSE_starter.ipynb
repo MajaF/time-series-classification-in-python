{
 "cells": [
  {
   "cell_type": "code",
   "execution_count": null,
   "id": "c842f1b3-3cf2-4949-ac73-ea13d9d82bfe",
   "metadata": {},
   "outputs": [],
   "source": [
    "import warnings\n",
    "warnings.filterwarnings('ignore')\n",
    "\n",
    "import time\n",
    "import pandas as pd\n",
    "import numpy as np\n",
    "import matplotlib.pyplot as plt\n",
    "\n",
    "from sklearn.model_selection import GridSearchCV\n",
    "from sklearn.model_selection import KFold\n",
    "\n",
    "from sklearn.metrics import accuracy_score\n",
    "\n",
    "from sktime.datasets import load_basic_motions\n",
    "\n",
    "X_train, y_train = load_basic_motions(split='train', return_type='numpy3D')\n",
    "X_test, y_test = load_basic_motions(split='test', return_type='numpy3D')"
   ]
  },
  {
   "cell_type": "code",
   "execution_count": null,
   "id": "1c36359a-3543-4d37-bf09-b62482fa2932",
   "metadata": {
    "scrolled": true
   },
   "outputs": [],
   "source": [
    "series_indices = [0, 10, 20, 30]\n",
    "categories = ['standing', 'running', 'walking', 'badminton']\n",
    "features = [\"accel_1\", \"accel_2\", \"accel_3\", \"gyro_1\", \"gyro_2\", \"gyro_3\"]\n",
    "\n",
    "selected_series = X_train[series_indices]\n",
    "\n",
    "fig, axes = plt.subplots(4, 1, figsize=(10, 18))\n",
    "\n",
    "for i in range(4):  \n",
    "    for j in range(selected_series.shape[1]):\n",
    "        axes[i].plot(selected_series[i, j], label=features[j])\n",
    "\n",
    "    axes[i].set_title(f\"Category: {categories[i]}\")\n",
    "    axes[i].set_xlabel(\"Time Steps\")\n",
    "    axes[i].set_ylabel(\"Values\")\n",
    "    axes[i].legend()\n",
    "\n",
    "plt.tight_layout()\n",
    "plt.show()"
   ]
  },
  {
   "cell_type": "markdown",
   "id": "23072048-ec91-419a-84f1-7c7fce467f40",
   "metadata": {},
   "source": [
    "## MUSE"
   ]
  },
  {
   "cell_type": "code",
   "execution_count": null,
   "id": "1476ca7c-0427-4ca4-816b-f72b62abf6ad",
   "metadata": {},
   "outputs": [],
   "source": [
    "from sktime.classification.dictionary_based import MUSE\n",
    "\n",
    "start = time.time()\n",
    "\n",
    "# Initialize MUSE\n",
    "\n",
    "# Fit model\n",
    "\n",
    "# Predict\n",
    "\n",
    "end = time.time()\n",
    "\n",
    "print(f\"Elapsed time: {round(end-start,0)} seconds or {round((end-start)/60,1)} minutes\")\n",
    "print(accuracy_score(y_test, y_pred))"
   ]
  },
  {
   "cell_type": "markdown",
   "id": "20641eb4-2c0e-4eda-8ddd-cb66d74a24d5",
   "metadata": {},
   "source": [
    "### Evaluation of all dictionary-based models"
   ]
  },
  {
   "cell_type": "code",
   "execution_count": null,
   "id": "ee2bdc97-7e56-4931-9bb5-915541fff199",
   "metadata": {},
   "outputs": [],
   "source": [
    "models = ['BOSS Ensemble', 'WEASEL', 'TDE', 'MUSE']\n",
    "accuracies = [0.98, 1.00, 1.00, 1.00]\n",
    "times = [4.0, 0.4, 2.9, 0.6]\n",
    "\n",
    "bar_width = 0.35\n",
    "indices = np.arange(len(models))\n",
    "\n",
    "fig, ax = plt.subplots(figsize=(12, 8))\n",
    "acc_bars = ax.bar(indices - bar_width / 2, accuracies, bar_width, color='skyblue', label='Accuracy')\n",
    "time_bars = ax.bar(indices + bar_width / 2, times, bar_width, color='orange', label='Time (min)')\n",
    "\n",
    "for bars in [acc_bars, time_bars]:\n",
    "        for bar in bars:\n",
    "            height = bar.get_height()\n",
    "            ax.annotate(f'{height:.2f}', \n",
    "                            xy=(bar.get_x() + bar.get_width() / 2, height),\n",
    "                            xytext=(0, 3),\n",
    "                            textcoords=\"offset points\",\n",
    "                            ha='center', va='bottom')\n",
    "\n",
    "ax.set_xticks(indices)\n",
    "ax.set_xticklabels(models)\n",
    "ax.legend(loc='best')\n",
    "\n",
    "plt.tight_layout()"
   ]
  },
  {
   "cell_type": "code",
   "execution_count": null,
   "id": "da01028c-89d7-4f16-b5d6-c7ac417d94cd",
   "metadata": {},
   "outputs": [],
   "source": []
  }
 ],
 "metadata": {
  "kernelspec": {
   "display_name": "Python 3 (ipykernel)",
   "language": "python",
   "name": "python3"
  },
  "language_info": {
   "codemirror_mode": {
    "name": "ipython",
    "version": 3
   },
   "file_extension": ".py",
   "mimetype": "text/x-python",
   "name": "python",
   "nbconvert_exporter": "python",
   "pygments_lexer": "ipython3",
   "version": "3.10.13"
  }
 },
 "nbformat": 4,
 "nbformat_minor": 5
}
