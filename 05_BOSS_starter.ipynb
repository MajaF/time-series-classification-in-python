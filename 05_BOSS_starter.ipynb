{
 "cells": [
  {
   "cell_type": "code",
   "execution_count": null,
   "id": "c93a0499-d923-4549-8ef7-10a9da33d866",
   "metadata": {},
   "outputs": [],
   "source": [
    "import pandas as pd\n",
    "import numpy as np\n",
    "import matplotlib.pyplot as plt\n",
    "\n",
    "import warnings\n",
    "warnings.filterwarnings('ignore')"
   ]
  },
  {
   "cell_type": "markdown",
   "id": "277daf58-1782-44b9-a206-d25eaf6293b0",
   "metadata": {},
   "source": [
    "## Discrete Fourier Transform (DFT)"
   ]
  },
  {
   "cell_type": "code",
   "execution_count": null,
   "id": "d2f3336f-6670-448f-8c2a-aeb9316be426",
   "metadata": {},
   "outputs": [],
   "source": [
    "x = np.array([1,2,3,4,5,6,7,8,9,8,7,6,5,4,3,2,1])\n",
    "x_dft = np.fft.fft(x)"
   ]
  },
  {
   "cell_type": "code",
   "execution_count": null,
   "id": "82d7969c-79d9-450b-8b6b-b6854e86325d",
   "metadata": {},
   "outputs": [],
   "source": [
    "x_dft"
   ]
  },
  {
   "cell_type": "code",
   "execution_count": null,
   "id": "5fc007a2-c40e-4216-9a82-9fb9bbf9eb0a",
   "metadata": {},
   "outputs": [],
   "source": [
    "freq = np.fft.fftfreq(x.shape[-1])\n",
    "\n",
    "fig, (ax1, ax2) = plt.subplots(nrows=2, ncols=1)\n",
    "\n",
    "ax1.plot(x, color='blue')\n",
    "ax1.set_xlabel('Timesteps')\n",
    "ax1.set_title('Original')\n",
    "\n",
    "ax2.plot(freq[1:], x_dft.real[1:], color='orange')\n",
    "ax2.set_xlabel('Frequency')\n",
    "ax2.set_title('DFT')\n",
    "\n",
    "plt.tight_layout()"
   ]
  },
  {
   "cell_type": "code",
   "execution_count": null,
   "id": "1e6637f4-0fe4-4ef0-be8a-8600bc0db691",
   "metadata": {},
   "outputs": [],
   "source": [
    "x = np.array([1.1,2.4,3.9,4.2])\n",
    "x_dft = np.fft.fft(x)\n",
    "\n",
    "x_dft"
   ]
  },
  {
   "cell_type": "markdown",
   "id": "31439806-ac2b-4e04-bb67-9c9c93585d1e",
   "metadata": {},
   "source": [
    "## Individual BOSS"
   ]
  },
  {
   "cell_type": "code",
   "execution_count": null,
   "id": "a0207b63-49fc-4e9c-9f3b-1e12d9eca980",
   "metadata": {},
   "outputs": [],
   "source": [
    "from sktime.datasets import load_basic_motions\n",
    "\n",
    "X_train, y_train = load_basic_motions(split='train', return_type='numpy3D')\n",
    "X_test, y_test = load_basic_motions(split='test', return_type='numpy3D')\n",
    "\n",
    "uni_X_train = X_train[:, 0:1, :]\n",
    "uni_X_test = X_test[:, 0:1, :]"
   ]
  },
  {
   "cell_type": "code",
   "execution_count": null,
   "id": "64fd02e7-efdd-4e4e-ade8-131d94ab86ec",
   "metadata": {},
   "outputs": [],
   "source": [
    "from sklearn.model_selection import GridSearchCV\n",
    "from sklearn.model_selection import KFold\n",
    "\n",
    "from sklearn.metrics import accuracy_score\n",
    "\n",
    "from sktime.classification.dictionary_based import IndividualBOSS\n",
    "\n",
    "# Initialize BOSS model\n",
    "\n",
    "# Define parameters grid\n",
    "\n",
    "# Tune model\n",
    "\n",
    "# Fit model\n",
    "\n",
    "# Make predictions\n",
    "\n",
    "print(tuned_boss.best_params_)\n",
    "print(accuracy_score(y_test, y_pred))"
   ]
  },
  {
   "cell_type": "markdown",
   "id": "1150cb4b-3ab2-45e2-8323-b4813a1a1b72",
   "metadata": {},
   "source": [
    "## BOSS Ensemble"
   ]
  },
  {
   "cell_type": "code",
   "execution_count": null,
   "id": "d88872bd-ee39-4b4f-88e6-710d345dbd31",
   "metadata": {},
   "outputs": [],
   "source": [
    "import time\n",
    "from sktime.classification.dictionary_based import BOSSEnsemble\n",
    "\n",
    "start = time.time()\n",
    "\n",
    "# Initialize BOSSEnsemble\n",
    "\n",
    "# Parameters grid\n",
    "\n",
    "tuned_boss = GridSearchCV(\n",
    "    boss,\n",
    "    params,\n",
    "    cv=KFold(n_splits=4)\n",
    ")\n",
    "\n",
    "tuned_boss.fit(uni_X_train, y_train)\n",
    "y_pred = tuned_boss.predict(uni_X_test)\n",
    "\n",
    "end = time.time()\n",
    "\n",
    "print(f\"Elapsed time: {round(end-start,0)} seconds or {round((end-start)/60,0)} minutes\")\n",
    "print(tuned_boss.best_params_)\n",
    "print(accuracy_score(y_test, y_pred))"
   ]
  },
  {
   "cell_type": "markdown",
   "id": "d3095483-28c8-4c07-a363-8c1606fe1d8d",
   "metadata": {},
   "source": [
    "## cBOSS"
   ]
  },
  {
   "cell_type": "code",
   "execution_count": null,
   "id": "5e3d5520-bb46-4df1-abe8-6da7a79be052",
   "metadata": {},
   "outputs": [],
   "source": [
    "from sktime.classification.dictionary_based import ContractableBOSS\n",
    "\n",
    "start = time.time()\n",
    "\n",
    "# Initialize contractable BOSS\n",
    "\n",
    "# Parameters grid\n",
    "\n",
    "tuned_boss = GridSearchCV(\n",
    "    c_boss,\n",
    "    params,\n",
    "    cv=KFold(n_splits=4)\n",
    ")\n",
    "\n",
    "tuned_boss.fit(uni_X_train, y_train)\n",
    "y_pred = tuned_boss.predict(uni_X_test)\n",
    "\n",
    "end = time.time()\n",
    "\n",
    "print(f\"Elapsed time: {round(end-start,0)} seconds or {round((end-start)/60,0)} minutes\")\n",
    "print(tuned_boss.best_params_)\n",
    "print(accuracy_score(y_test, y_pred))"
   ]
  },
  {
   "cell_type": "code",
   "execution_count": null,
   "id": "c0be1e2a-1173-4b6b-833f-2b7c149ed6d7",
   "metadata": {},
   "outputs": [],
   "source": []
  }
 ],
 "metadata": {
  "kernelspec": {
   "display_name": "Python 3 (ipykernel)",
   "language": "python",
   "name": "python3"
  },
  "language_info": {
   "codemirror_mode": {
    "name": "ipython",
    "version": 3
   },
   "file_extension": ".py",
   "mimetype": "text/x-python",
   "name": "python",
   "nbconvert_exporter": "python",
   "pygments_lexer": "ipython3",
   "version": "3.10.13"
  }
 },
 "nbformat": 4,
 "nbformat_minor": 5
}
