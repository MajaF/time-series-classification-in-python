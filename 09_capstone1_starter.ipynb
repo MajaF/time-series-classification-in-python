{
 "cells": [
  {
   "cell_type": "code",
   "execution_count": null,
   "id": "50392a2a-6091-4ba1-8012-9f5d56c45ac3",
   "metadata": {},
   "outputs": [],
   "source": [
    "import warnings\n",
    "warnings.filterwarnings('ignore')\n",
    "\n",
    "import time\n",
    "import pandas as pd\n",
    "import numpy as np\n",
    "import matplotlib.pyplot as plt\n",
    "\n",
    "from sklearn.model_selection import GridSearchCV\n",
    "from sklearn.model_selection import KFold\n",
    "\n",
    "from sklearn.metrics import accuracy_score\n",
    "\n",
    "from sktime.datasets import load_japanese_vowels\n",
    "\n",
    "X_train, y_train = load_japanese_vowels(split='train', return_type=None)\n",
    "X_test, y_test = load_japanese_vowels(split='test', return_type=None)"
   ]
  },
  {
   "cell_type": "markdown",
   "id": "3f76a332-11db-4de3-a634-791eefd7ea9a",
   "metadata": {},
   "source": [
    "## Data preprocessing\n",
    "### Transform to numpy 3D array"
   ]
  },
  {
   "cell_type": "code",
   "execution_count": null,
   "id": "dc0d187e-6548-4d64-a0a8-88e2b5dfa51d",
   "metadata": {},
   "outputs": [],
   "source": [
    "X_train.head()"
   ]
  },
  {
   "cell_type": "code",
   "execution_count": null,
   "id": "f580e254-09af-4b55-b13a-cc47dd331b99",
   "metadata": {},
   "outputs": [],
   "source": []
  },
  {
   "cell_type": "code",
   "execution_count": null,
   "id": "bb7b6614-90d1-4b2e-b49d-488b630d7654",
   "metadata": {},
   "outputs": [],
   "source": []
  },
  {
   "cell_type": "code",
   "execution_count": null,
   "id": "c5383cc2-6a69-42ce-9e08-05ceaef4f70d",
   "metadata": {},
   "outputs": [],
   "source": []
  },
  {
   "cell_type": "code",
   "execution_count": null,
   "id": "56f72a0d-50ae-487a-b994-522fbb5bb599",
   "metadata": {},
   "outputs": [],
   "source": [
    "# Shape should be (num_samples, num_features, time steps)\n",
    "\n",
    "print(X_train.shape)\n",
    "print(X_test.shape)"
   ]
  },
  {
   "cell_type": "markdown",
   "id": "1ec9d6e6-74a1-46bc-8967-649eea5e1f52",
   "metadata": {},
   "source": [
    "### Count class frequencies"
   ]
  },
  {
   "cell_type": "code",
   "execution_count": null,
   "id": "b6fcec95-d394-4c4c-b1aa-ac675aec3a0c",
   "metadata": {},
   "outputs": [],
   "source": []
  },
  {
   "cell_type": "markdown",
   "id": "183b79ec-bc34-428c-a971-866478c4dc52",
   "metadata": {},
   "source": [
    "### Plot features and labels"
   ]
  },
  {
   "cell_type": "code",
   "execution_count": null,
   "id": "fcae19eb-f01c-4332-82a5-671be231552c",
   "metadata": {},
   "outputs": [],
   "source": [
    "series_indices = np.arange(0, 30*4, 30)\n",
    "categories = np.arange(1, 5, 1)\n",
    "features = np.arange(0, 13, 1)\n",
    "\n",
    "selected_series = X_train[series_indices]\n",
    "\n",
    "fig, axes = plt.subplots(4, 1, figsize=(10, 18))\n",
    "\n",
    "for i in range(4):  \n",
    "    for j in range(selected_series.shape[1]):\n",
    "        axes[i].plot(selected_series[i, j], label=features[j])\n",
    "\n",
    "    axes[i].set_title(f\"Category: {categories[i]}\")\n",
    "    axes[i].set_xlabel(\"Time Steps\")\n",
    "    axes[i].set_ylabel(\"Values\")\n",
    "    axes[i].legend()\n",
    "\n",
    "plt.tight_layout()\n",
    "plt.show()"
   ]
  },
  {
   "cell_type": "markdown",
   "id": "9fe500bb-551e-43a7-b4a0-897bb4a02a30",
   "metadata": {},
   "source": [
    "## Classification\n",
    "### Baseline"
   ]
  },
  {
   "cell_type": "code",
   "execution_count": null,
   "id": "55059bc4-619d-4f4e-9559-e0ba7445b6af",
   "metadata": {},
   "outputs": [],
   "source": [
    "from sktime.classification.dummy import DummyClassifier\n",
    "\n",
    "start = time.time()\n",
    "\n",
    "# Initialize baseline model\n",
    "\n",
    "# Fit\n",
    "\n",
    "# Predict\n",
    "\n",
    "end = time.time()\n",
    "\n",
    "baseline_time = end - start\n",
    "baseline_accuracy = round(accuracy_score(y_test, y_pred),2)\n",
    "\n",
    "print(f\"Elapsed time: {round(baseline_time,0)} seconds or {round(baseline_time/60,0)} minutes\")\n",
    "print(f\"Accuracy: {baseline_accuracy*100}%\")"
   ]
  },
  {
   "cell_type": "markdown",
   "id": "8d56d0c6-5891-40dd-bf80-3fba4ec2838d",
   "metadata": {},
   "source": [
    "### BOSS (univariate)"
   ]
  },
  {
   "cell_type": "code",
   "execution_count": null,
   "id": "8b0116b9-e69c-4ef8-a377-4aecc463d04b",
   "metadata": {},
   "outputs": [],
   "source": [
    "from sktime.classification.dictionary_based import ContractableBOSS\n",
    "\n",
    "uni_X_train = X_train[:, 0:1, :]\n",
    "uni_X_test = X_test[:, 0:1, :]\n",
    "\n",
    "start = time.time()\n",
    "\n",
    "# Initialize model\n",
    "\n",
    "# Parameters grid\n",
    "\n",
    "# Tune model\n",
    "\n",
    "# Fit tuned model\n",
    "\n",
    "# Predict\n",
    "\n",
    "end = time.time()\n",
    "\n",
    "boss_time = end - start\n",
    "boss_accuracy = round(accuracy_score(y_test, y_pred),2)\n",
    "\n",
    "print(f\"Elapsed time: {round(boss_time,0)} seconds or {round(boss_time/60,1)} minutes\")\n",
    "print(tuned_boss.best_params_)\n",
    "print(f\"Accuracy: {boss_accuracy}%\")"
   ]
  },
  {
   "cell_type": "markdown",
   "id": "dd78c9d9-36bb-4f7a-9a13-a446a1fb2897",
   "metadata": {},
   "source": [
    "### WEASEL (univariate)"
   ]
  },
  {
   "cell_type": "code",
   "execution_count": null,
   "id": "995bfcf0-2e8f-43d1-9da0-35dcdd899c1b",
   "metadata": {},
   "outputs": [],
   "source": [
    "from sktime.classification.dictionary_based import WEASEL\n",
    "\n",
    "start = time.time()\n",
    "\n",
    "# Initialize model\n",
    "\n",
    "# Parameters grid\n",
    "\n",
    "# Tune model\n",
    "\n",
    "# Fit\n",
    "\n",
    "# Predict\n",
    "\n",
    "end = time.time()\n",
    "\n",
    "weasel_time = end - start\n",
    "weasel_accuracy = round(accuracy_score(y_test, y_pred),2)\n",
    "\n",
    "print(f\"Elapsed time: {round(weasel_time,0)} seconds or {round(weasel_time/60,1)} minutes\")\n",
    "print(tuned_weasel.best_params_)\n",
    "print(f\"Accuracy: {weasel_accuracy*100}%\")"
   ]
  },
  {
   "cell_type": "markdown",
   "id": "a383ca43-0a2f-4b56-8b6f-18e87ee33820",
   "metadata": {},
   "source": [
    "### TDE (multivariate)"
   ]
  },
  {
   "cell_type": "markdown",
   "id": "cb1393df-037c-4241-bb0d-50fd75d2ea15",
   "metadata": {},
   "source": [
    "TDE is way too slow. I believe that MUSE is a much better alternative to TDE as it is much faster and it achieves great performance."
   ]
  },
  {
   "cell_type": "markdown",
   "id": "d830e941-e09e-42a6-bef7-985f318c8f5a",
   "metadata": {},
   "source": [
    "### MUSE (multivariate)"
   ]
  },
  {
   "cell_type": "code",
   "execution_count": null,
   "id": "27d13818-75a7-4c84-8772-8ab47f1e2de2",
   "metadata": {},
   "outputs": [],
   "source": [
    "from sktime.classification.dictionary_based import MUSE\n",
    "\n",
    "start = time.time()\n",
    "\n",
    "# Initialize model\n",
    "\n",
    "# Fit\n",
    "\n",
    "# Predict\n",
    "\n",
    "end = time.time()\n",
    "\n",
    "muse_time = end - start\n",
    "muse_accuracy = round(accuracy_score(y_test, y_pred),2)\n",
    "\n",
    "print(f\"Elapsed time: {round(muse_time,0)} seconds or {round(muse_time/60,1)} minutes\")\n",
    "print(f\"Accuracy: {muse_accuracy*100}%\")"
   ]
  },
  {
   "cell_type": "code",
   "execution_count": null,
   "id": "52b0513e-80d6-466f-94ed-2347cd3e3be0",
   "metadata": {},
   "outputs": [],
   "source": [
    "models = ['Baseline', 'BOSS Ensemble', 'WEASEL', 'MUSE']\n",
    "accuracies = [baseline_accuracy, boss_accuracy, weasel_accuracy, muse_accuracy]\n",
    "times = [baseline_time/60, boss_time/60, weasel_time/60, muse_time/60]\n",
    "\n",
    "bar_width = 0.35\n",
    "indices = np.arange(len(models))\n",
    "\n",
    "fig, ax = plt.subplots(figsize=(12, 8))\n",
    "acc_bars = ax.bar(indices - bar_width / 2, accuracies, bar_width, color='skyblue', label='Accuracy')\n",
    "time_bars = ax.bar(indices + bar_width / 2, times, bar_width, color='orange', label='Time (min)')\n",
    "\n",
    "for bars in [acc_bars, time_bars]:\n",
    "        for bar in bars:\n",
    "            height = bar.get_height()\n",
    "            ax.annotate(f'{height:.2f}', \n",
    "                            xy=(bar.get_x() + bar.get_width() / 2, height),\n",
    "                            xytext=(0, 3),\n",
    "                            textcoords=\"offset points\",\n",
    "                            ha='center', va='bottom')\n",
    "\n",
    "ax.set_xticks(indices)\n",
    "ax.set_xticklabels(models)\n",
    "ax.legend(loc='best')\n",
    "\n",
    "plt.tight_layout()"
   ]
  },
  {
   "cell_type": "code",
   "execution_count": null,
   "id": "89a01480-1105-4af5-8979-f21be8160693",
   "metadata": {},
   "outputs": [],
   "source": []
  }
 ],
 "metadata": {
  "kernelspec": {
   "display_name": "Python 3 (ipykernel)",
   "language": "python",
   "name": "python3"
  },
  "language_info": {
   "codemirror_mode": {
    "name": "ipython",
    "version": 3
   },
   "file_extension": ".py",
   "mimetype": "text/x-python",
   "name": "python",
   "nbconvert_exporter": "python",
   "pygments_lexer": "ipython3",
   "version": "3.10.13"
  }
 },
 "nbformat": 4,
 "nbformat_minor": 5
}
