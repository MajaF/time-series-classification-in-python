{
 "cells": [
  {
   "cell_type": "code",
   "execution_count": null,
   "id": "af7c3940-2450-4a71-b33d-5e58a49fa9cd",
   "metadata": {},
   "outputs": [],
   "source": [
    "import pandas as pd\n",
    "import numpy as np\n",
    "import matplotlib.pyplot as plt"
   ]
  },
  {
   "cell_type": "code",
   "execution_count": null,
   "id": "0c316bee-69ae-4adf-8962-7815f550ce94",
   "metadata": {},
   "outputs": [],
   "source": [
    "from sktime.datasets import load_basic_motions\n",
    "\n",
    "# Import train and test sets\n"
   ]
  },
  {
   "cell_type": "code",
   "execution_count": null,
   "id": "c39b7084-b5cd-48cf-8101-4450f9c3d1dd",
   "metadata": {},
   "outputs": [],
   "source": [
    "# Print shapes\n",
    "\n"
   ]
  },
  {
   "cell_type": "markdown",
   "id": "b1847f80-83db-4282-b75d-3f7ad667e5b8",
   "metadata": {},
   "source": [
    "This means that we have:\n",
    "- 40 individual time series\n",
    "- 6 variables per series\n",
    "- 100 time steps of observations"
   ]
  },
  {
   "cell_type": "code",
   "execution_count": null,
   "id": "e91214c3-22c4-41f9-97e3-d05932bfe3a1",
   "metadata": {},
   "outputs": [],
   "source": [
    "# Look at possible labels"
   ]
  },
  {
   "cell_type": "code",
   "execution_count": null,
   "id": "7ed88ae8-ed88-4f8b-83f9-ae48c386c741",
   "metadata": {},
   "outputs": [],
   "source": [
    "# Plot some features and labels\n"
   ]
  },
  {
   "cell_type": "markdown",
   "id": "f85c2fe1-28eb-4fa6-a3d2-c520e4e273eb",
   "metadata": {},
   "source": [
    "## Baseline classifier"
   ]
  },
  {
   "cell_type": "code",
   "execution_count": null,
   "id": "fae9d656-b276-4ebc-8878-1cff1c701a8e",
   "metadata": {},
   "outputs": [],
   "source": [
    "# Initialize DummyClassifier\n",
    "\n",
    "# Fit classifieer\n"
   ]
  },
  {
   "cell_type": "code",
   "execution_count": null,
   "id": "5d082ccf-83a9-42dd-b474-6dfd435691c9",
   "metadata": {},
   "outputs": [],
   "source": [
    "# Make predictions\n"
   ]
  },
  {
   "cell_type": "markdown",
   "id": "e31695e3-2c25-42fa-ad1a-a3a24bae89f9",
   "metadata": {},
   "source": [
    "### Evaluation"
   ]
  },
  {
   "cell_type": "code",
   "execution_count": null,
   "id": "50012a91-2a2c-44c3-9ec8-bee83ead9488",
   "metadata": {},
   "outputs": [],
   "source": [
    "# Measure accuracy\n"
   ]
  },
  {
   "cell_type": "markdown",
   "id": "b9ca167a-dd35-4c84-8960-822024194e87",
   "metadata": {},
   "source": [
    "## Benchmark of baselines "
   ]
  },
  {
   "cell_type": "code",
   "execution_count": null,
   "id": "cc4f7259-8654-4030-a581-97644ac429f8",
   "metadata": {},
   "outputs": [],
   "source": [
    "# Test all baseline strategies\n"
   ]
  },
  {
   "cell_type": "code",
   "execution_count": null,
   "id": "b982611e-8061-43c1-bdb2-5296f2a4bbd5",
   "metadata": {},
   "outputs": [],
   "source": [
    "fig, ax = plt.subplots(figsize=(8,6))\n",
    "\n",
    "bars = ax.bar(range(len(accuracy_scores)), accuracy_scores)\n",
    "\n",
    "for bar, score in zip(bars, accuracy_scores):\n",
    "    plt.text(bar.get_x() + bar.get_width() / 2, bar.get_height() + 0.01, f'{score:.2f}', ha='center', va='bottom')\n",
    "\n",
    "ax.set_xlabel('Model')\n",
    "ax.set_ylabel('Accuracy')\n",
    "ax.set_title('Accuracy Scores')\n",
    "ax.set_ylim(0, 1)\n",
    "ax.set_xticks(range(len(accuracy_scores)), strategies)\n",
    "\n",
    "plt.tight_layout()"
   ]
  },
  {
   "cell_type": "code",
   "execution_count": null,
   "id": "626eaf12-29dd-4c0c-bfa4-a6368a29c0ba",
   "metadata": {},
   "outputs": [],
   "source": []
  }
 ],
 "metadata": {
  "kernelspec": {
   "display_name": "Python 3 (ipykernel)",
   "language": "python",
   "name": "python3"
  },
  "language_info": {
   "codemirror_mode": {
    "name": "ipython",
    "version": 3
   },
   "file_extension": ".py",
   "mimetype": "text/x-python",
   "name": "python",
   "nbconvert_exporter": "python",
   "pygments_lexer": "ipython3",
   "version": "3.10.13"
  }
 },
 "nbformat": 4,
 "nbformat_minor": 5
}
