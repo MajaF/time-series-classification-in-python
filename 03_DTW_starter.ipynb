{
 "cells": [
  {
   "cell_type": "code",
   "execution_count": null,
   "id": "57d3f1c3-e902-4e1a-aaf8-03c22e51c45d",
   "metadata": {},
   "outputs": [],
   "source": [
    "import numpy as np\n",
    "import scipy.spatial.distance as dist\n",
    "import matplotlib.pyplot as plt\n",
    "from matplotlib.patches import ConnectionPatch"
   ]
  },
  {
   "cell_type": "code",
   "execution_count": null,
   "id": "e6b25de2-bc8f-4ab4-8999-6d5273e742a4",
   "metadata": {},
   "outputs": [],
   "source": [
    "# Define the DTW function\n",
    "\n",
    "def dtw(x, y):\n",
    "\n",
    "    # Get shape of input series to shape the cost matrix\n",
    "\n",
    "    # Calculate the distance between each points\n",
    "    \n",
    "    # Initialize a matrix with an extra row and extra column\n",
    "\n",
    "    # Fill the extra row and column with infinity\n",
    "    # Only the bottom left entry is left at 0\n",
    "\n",
    "    # Initialize an empty matrix to store the path origin\n",
    "\n",
    "    # Loop to fill the cost matrix\n",
    "            \n",
    "            # Get the minimum of penalty list\n",
    "\n",
    "            # Add penalty to the distance\n",
    "\n",
    "            # Record the origin of the minimum penalty\n",
    "\n",
    "    # Get path\n",
    "\n",
    "    # Remove extra row and column containing infinity\n",
    "\n",
    "    # Return cost matrix and path\n"
   ]
  },
  {
   "cell_type": "code",
   "execution_count": null,
   "id": "f7446f59-c2de-41eb-98b2-16ded4a0f057",
   "metadata": {},
   "outputs": [],
   "source": [
    "# Test DTW\n"
   ]
  },
  {
   "cell_type": "code",
   "execution_count": null,
   "id": "754e63dd-90b4-4929-8298-5130da1de509",
   "metadata": {},
   "outputs": [],
   "source": [
    "fig, ax = plt.subplots()\n",
    "\n",
    "for x_i, y_j in path:\n",
    "    ax.plot([x_i, y_j], [x[x_i] + 1.5, y[y_j] - 1.5], color=\"gray\", ls='--')\n",
    "ax.plot(np.arange(x.shape[0]), x + 1.5, \"-o\", c=\"C3\")\n",
    "ax.plot(np.arange(y.shape[0]), y - 1.5, \"-o\", c=\"C0\")\n",
    "\n",
    "plt.axis(\"off\")\n",
    "plt.tight_layout()"
   ]
  },
  {
   "cell_type": "code",
   "execution_count": null,
   "id": "c06acc88-99c9-4d73-aae8-507de89b776f",
   "metadata": {},
   "outputs": [],
   "source": [
    "plt.figure(figsize=(6, 4))\n",
    "plt.imshow(cost_mat, cmap=plt.cm.binary, interpolation=\"nearest\", origin=\"lower\")\n",
    "x_path, y_path = zip(*path)\n",
    "plt.plot(y_path, x_path)\n",
    "plt.xlabel(\"$j$\")\n",
    "plt.ylabel(\"$i$\");"
   ]
  },
  {
   "cell_type": "code",
   "execution_count": null,
   "id": "6253e43f-e483-4801-94eb-b917c6ed5891",
   "metadata": {},
   "outputs": [],
   "source": [
    "x = np.array([0, -0.5, 1, 1, 0, 0, -1, 0, 0.5, 0, 1])\n",
    "y = np.array([0, 0, 1, -0.5, -1, 1, 0, 0, 0, -1, -0.5, 0, 0.5])"
   ]
  },
  {
   "cell_type": "code",
   "execution_count": null,
   "id": "58fe2d04-8973-4930-b169-d34c39510493",
   "metadata": {},
   "outputs": [],
   "source": [
    "cost_mat, path, cost, norm_cost = dtw(x, y)\n",
    "\n",
    "print(f\"Alignment cost: {round(cost, 2)}\")\n",
    "print(f\"Normalized aligmnent cost: {round(norm_cost, 4)}\")"
   ]
  },
  {
   "cell_type": "code",
   "execution_count": null,
   "id": "2ee7251f-0943-4cb3-a69b-330c6cad5bfc",
   "metadata": {},
   "outputs": [],
   "source": [
    "fig, ax = plt.subplots()\n",
    "\n",
    "for x_i, y_j in path:\n",
    "    ax.plot([x_i, y_j], [x[x_i] + 1.5, y[y_j] - 1.5], color=\"gray\", ls='--')\n",
    "ax.plot(np.arange(x.shape[0]), x + 1.5, \"-o\", c=\"C3\")\n",
    "ax.plot(np.arange(y.shape[0]), y - 1.5, \"-o\", c=\"C0\")\n",
    "\n",
    "plt.axis(\"off\")\n",
    "plt.tight_layout()"
   ]
  },
  {
   "cell_type": "code",
   "execution_count": null,
   "id": "c4913199-85e2-41fa-adaa-5993e0c8e180",
   "metadata": {},
   "outputs": [],
   "source": [
    "plt.figure(figsize=(6, 4))\n",
    "plt.imshow(cost_mat, cmap=plt.cm.binary, interpolation=\"nearest\", origin=\"lower\")\n",
    "x_path, y_path = zip(*path)\n",
    "plt.plot(y_path, x_path)\n",
    "plt.xlabel(\"$j$\")\n",
    "plt.ylabel(\"$i$\");"
   ]
  },
  {
   "cell_type": "markdown",
   "id": "7b69bcb9-c069-40b5-ac0e-14a713410c60",
   "metadata": {},
   "source": [
    "## Experiment with actual data"
   ]
  },
  {
   "cell_type": "code",
   "execution_count": null,
   "id": "395eaa5d-438c-4a14-84b8-3a400fed4e5b",
   "metadata": {},
   "outputs": [],
   "source": [
    "import pandas as pd\n",
    "import numpy as np\n",
    "import matplotlib.pyplot as plt\n",
    "\n",
    "from sklearn.metrics import accuracy_score\n",
    "\n",
    "from sktime.datasets import load_basic_motions\n",
    "\n",
    "X_train, y_train = load_basic_motions(split='train', return_type='numpy3D')\n",
    "X_test, y_test = load_basic_motions(split='test', return_type='numpy3D')"
   ]
  },
  {
   "cell_type": "code",
   "execution_count": null,
   "id": "fbc4f390-6759-4c28-b8d2-78deb8994fdf",
   "metadata": {
    "scrolled": true
   },
   "outputs": [],
   "source": [
    "series_indices = [0, 10, 20, 30]\n",
    "categories = ['standing', 'running', 'walking', 'badminton']\n",
    "features = [\"accel_1\", \"accel_2\", \"accel_3\", \"gyro_1\", \"gyro_2\", \"gyro_3\"]\n",
    "\n",
    "selected_series = X_train[series_indices]\n",
    "\n",
    "fig, axes = plt.subplots(4, 1, figsize=(10, 18))\n",
    "\n",
    "for i in range(4):  \n",
    "    for j in range(selected_series.shape[1]):\n",
    "        axes[i].plot(selected_series[i, j], label=features[j])\n",
    "\n",
    "    axes[i].set_title(f\"Category: {categories[i]}\")\n",
    "    axes[i].set_xlabel(\"Time Steps\")\n",
    "    axes[i].set_ylabel(\"Values\")\n",
    "    axes[i].legend()\n",
    "\n",
    "plt.tight_layout()\n",
    "plt.show()"
   ]
  },
  {
   "cell_type": "code",
   "execution_count": null,
   "id": "f9fe4f3d-3772-4a19-87a9-5cc9cbcfc33b",
   "metadata": {},
   "outputs": [],
   "source": [
    "# Get two samples of accel_1 for standing\n",
    "# Get one sample of accel_1 for walking\n",
    "\n"
   ]
  },
  {
   "cell_type": "code",
   "execution_count": null,
   "id": "c818a046-fa71-4565-9693-101ea6b37f33",
   "metadata": {},
   "outputs": [],
   "source": [
    "cost_mat, path, cost, norm_cost = dtw(stand_1, stand_2)\n",
    "\n",
    "print(f\"Alignment cost: {round(cost, 2)}\")\n",
    "print(f\"Normalized aligmnent cost: {round(norm_cost, 4)}\")"
   ]
  },
  {
   "cell_type": "code",
   "execution_count": null,
   "id": "3c37b56f-c844-4530-bca0-a3a846baa76c",
   "metadata": {},
   "outputs": [],
   "source": [
    "fig, ax = plt.subplots()\n",
    "\n",
    "for x_i, y_j in path:\n",
    "    ax.plot([x_i, y_j], [stand_1[x_i] + 3, stand_2[y_j] - 3], color=\"gray\", ls='--')\n",
    "ax.plot(np.arange(stand_1.shape[0]), stand_1 + 3, \"-o\", color='blue')\n",
    "ax.plot(np.arange(stand_2.shape[0]), stand_2 - 3, \"-o\", color='red')\n",
    "\n",
    "plt.axis(\"off\")\n",
    "plt.tight_layout()"
   ]
  },
  {
   "cell_type": "code",
   "execution_count": null,
   "id": "abaafa98-59c2-4c06-b03b-a54cd58a6dbe",
   "metadata": {},
   "outputs": [],
   "source": [
    "cost_mat, path, cost, norm_cost = dtw(stand_1, walk_1)\n",
    "\n",
    "print(f\"Alignment cost: {round(cost, 2)}\")\n",
    "print(f\"Normalized aligmnent cost: {round(norm_cost, 4)}\")"
   ]
  },
  {
   "cell_type": "code",
   "execution_count": null,
   "id": "3c234e39-1922-4a96-9ec1-710721a293b4",
   "metadata": {},
   "outputs": [],
   "source": [
    "fig, ax = plt.subplots()\n",
    "\n",
    "for x_i, y_j in path:\n",
    "    ax.plot([x_i, y_j], [stand_1[x_i] + 5, walk_1[y_j] - 3], color=\"gray\", ls='--')\n",
    "ax.plot(np.arange(stand_1.shape[0]), stand_1 + 5, \"-o\", color='blue', label='standing')\n",
    "ax.plot(np.arange(walk_1.shape[0]), walk_1 - 3, \"-o\", color='red', label='walking')\n",
    "ax.legend()\n",
    "\n",
    "plt.axis(\"off\")\n",
    "plt.tight_layout()"
   ]
  },
  {
   "cell_type": "markdown",
   "id": "a3840ab2-e687-4f52-9085-42f877560e1c",
   "metadata": {},
   "source": [
    "## ShapeDTW"
   ]
  },
  {
   "cell_type": "code",
   "execution_count": null,
   "id": "b8c7d5ff-1cb4-48b1-9a29-695b3bb3e0eb",
   "metadata": {},
   "outputs": [],
   "source": [
    "# Use only the accel_1 feature, as ShapeDTW is a univariate model\n"
   ]
  },
  {
   "cell_type": "code",
   "execution_count": null,
   "id": "97b5a5b1-cbc0-4c65-9ec0-5f1c31ba629f",
   "metadata": {},
   "outputs": [],
   "source": [
    "# Cross-validation with ShapeDTW\n"
   ]
  },
  {
   "cell_type": "code",
   "execution_count": null,
   "id": "c22d2839-4ae4-4b19-987b-9599ff8d85e4",
   "metadata": {},
   "outputs": [],
   "source": [
    "fig, ax = plt.subplots(figsize=(8,6))\n",
    "\n",
    "accuracy_scores = [0.33, 0.60, 0.65]\n",
    "models = ['Baseline', 'KNN', 'DTW']\n",
    "\n",
    "bars = ax.bar(range(len(accuracy_scores)), accuracy_scores)\n",
    "\n",
    "for bar, score in zip(bars, accuracy_scores):\n",
    "    plt.text(bar.get_x() + bar.get_width() / 2, bar.get_height() + 0.01, f'{score:.2f}', ha='center', va='bottom')\n",
    "\n",
    "ax.set_xlabel('Model')\n",
    "ax.set_ylabel('Accuracy')\n",
    "ax.set_title('Accuracy Scores')\n",
    "ax.set_ylim(0, 1)\n",
    "ax.set_xticks(range(len(accuracy_scores)), models)\n",
    "\n",
    "plt.tight_layout()"
   ]
  },
  {
   "cell_type": "code",
   "execution_count": null,
   "id": "2237e4e2-f65b-4055-bd80-577c88ea8fc8",
   "metadata": {},
   "outputs": [],
   "source": []
  }
 ],
 "metadata": {
  "kernelspec": {
   "display_name": "Python 3 (ipykernel)",
   "language": "python",
   "name": "python3"
  },
  "language_info": {
   "codemirror_mode": {
    "name": "ipython",
    "version": 3
   },
   "file_extension": ".py",
   "mimetype": "text/x-python",
   "name": "python",
   "nbconvert_exporter": "python",
   "pygments_lexer": "ipython3",
   "version": "3.10.13"
  }
 },
 "nbformat": 4,
 "nbformat_minor": 5
}
