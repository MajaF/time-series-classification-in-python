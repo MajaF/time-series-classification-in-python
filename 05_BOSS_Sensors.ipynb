{
 "cells": [
  {
   "cell_type": "code",
   "execution_count": 12,
   "id": "c93a0499-d923-4549-8ef7-10a9da33d866",
   "metadata": {},
   "outputs": [],
   "source": [
    "import pandas as pd\n",
    "import numpy as np\n",
    "import matplotlib.pyplot as plt\n",
    "\n",
    "import warnings\n",
    "warnings.filterwarnings('ignore')"
   ]
  },
  {
   "cell_type": "markdown",
   "id": "1370abed",
   "metadata": {},
   "source": [
    "## Load my Data"
   ]
  },
  {
   "cell_type": "code",
   "execution_count": 13,
   "id": "5b946e7e",
   "metadata": {},
   "outputs": [
    {
     "data": {
      "text/html": [
       "<div>\n",
       "<style scoped>\n",
       "    .dataframe tbody tr th:only-of-type {\n",
       "        vertical-align: middle;\n",
       "    }\n",
       "\n",
       "    .dataframe tbody tr th {\n",
       "        vertical-align: top;\n",
       "    }\n",
       "\n",
       "    .dataframe thead th {\n",
       "        text-align: right;\n",
       "    }\n",
       "</style>\n",
       "<table border=\"1\" class=\"dataframe\">\n",
       "  <thead>\n",
       "    <tr style=\"text-align: right;\">\n",
       "      <th></th>\n",
       "      <th>Timestamp</th>\n",
       "      <th>ACC_BF5_55_E120</th>\n",
       "      <th>ACC_BF4_80_E120</th>\n",
       "      <th>ACC_BF3_80_E120</th>\n",
       "      <th>ACC_BF2_55_E120</th>\n",
       "      <th>ACC_BF1_00_E120</th>\n",
       "      <th>BF1_00_E120</th>\n",
       "      <th>BF2_20_E120</th>\n",
       "      <th>BF3_35_E120</th>\n",
       "    </tr>\n",
       "  </thead>\n",
       "  <tbody>\n",
       "    <tr>\n",
       "      <th>0</th>\n",
       "      <td>2022-01-01 00:00:00</td>\n",
       "      <td>8.2</td>\n",
       "      <td>8.8</td>\n",
       "      <td>3.3</td>\n",
       "      <td>3.2</td>\n",
       "      <td>3.0</td>\n",
       "      <td>13.35</td>\n",
       "      <td>10.45</td>\n",
       "      <td>17.38</td>\n",
       "    </tr>\n",
       "    <tr>\n",
       "      <th>1</th>\n",
       "      <td>2022-01-01 00:15:00</td>\n",
       "      <td>7.9</td>\n",
       "      <td>9.1</td>\n",
       "      <td>3.4</td>\n",
       "      <td>3.2</td>\n",
       "      <td>3.0</td>\n",
       "      <td>13.11</td>\n",
       "      <td>10.62</td>\n",
       "      <td>17.35</td>\n",
       "    </tr>\n",
       "    <tr>\n",
       "      <th>2</th>\n",
       "      <td>2022-01-01 00:30:00</td>\n",
       "      <td>7.9</td>\n",
       "      <td>9.1</td>\n",
       "      <td>3.5</td>\n",
       "      <td>3.2</td>\n",
       "      <td>3.1</td>\n",
       "      <td>13.07</td>\n",
       "      <td>10.66</td>\n",
       "      <td>17.21</td>\n",
       "    </tr>\n",
       "    <tr>\n",
       "      <th>3</th>\n",
       "      <td>2022-01-01 00:45:00</td>\n",
       "      <td>8.0</td>\n",
       "      <td>8.8</td>\n",
       "      <td>3.4</td>\n",
       "      <td>3.2</td>\n",
       "      <td>3.1</td>\n",
       "      <td>13.31</td>\n",
       "      <td>10.52</td>\n",
       "      <td>17.38</td>\n",
       "    </tr>\n",
       "    <tr>\n",
       "      <th>4</th>\n",
       "      <td>2022-01-01 01:00:00</td>\n",
       "      <td>7.9</td>\n",
       "      <td>8.9</td>\n",
       "      <td>3.3</td>\n",
       "      <td>3.1</td>\n",
       "      <td>3.3</td>\n",
       "      <td>13.23</td>\n",
       "      <td>10.66</td>\n",
       "      <td>17.37</td>\n",
       "    </tr>\n",
       "  </tbody>\n",
       "</table>\n",
       "</div>"
      ],
      "text/plain": [
       "            Timestamp  ACC_BF5_55_E120  ACC_BF4_80_E120  ACC_BF3_80_E120  \\\n",
       "0 2022-01-01 00:00:00              8.2              8.8              3.3   \n",
       "1 2022-01-01 00:15:00              7.9              9.1              3.4   \n",
       "2 2022-01-01 00:30:00              7.9              9.1              3.5   \n",
       "3 2022-01-01 00:45:00              8.0              8.8              3.4   \n",
       "4 2022-01-01 01:00:00              7.9              8.9              3.3   \n",
       "\n",
       "   ACC_BF2_55_E120  ACC_BF1_00_E120  BF1_00_E120  BF2_20_E120  BF3_35_E120  \n",
       "0              3.2              3.0        13.35        10.45        17.38  \n",
       "1              3.2              3.0        13.11        10.62        17.35  \n",
       "2              3.2              3.1        13.07        10.66        17.21  \n",
       "3              3.2              3.1        13.31        10.52        17.38  \n",
       "4              3.1              3.3        13.23        10.66        17.37  "
      ]
     },
     "execution_count": 13,
     "metadata": {},
     "output_type": "execute_result"
    }
   ],
   "source": [
    "df = pd.read_feather(\"E120_2022_wg.feather\")\n",
    "df.head()"
   ]
  },
  {
   "cell_type": "code",
   "execution_count": 23,
   "id": "76140707",
   "metadata": {},
   "outputs": [
    {
     "data": {
      "text/plain": [
       "(77921, 9)"
      ]
     },
     "execution_count": 23,
     "metadata": {},
     "output_type": "execute_result"
    }
   ],
   "source": [
    "df.shape"
   ]
  },
  {
   "cell_type": "code",
   "execution_count": 14,
   "id": "ed913a2a",
   "metadata": {},
   "outputs": [
    {
     "data": {
      "text/plain": [
       "array([8.2, 7.9, 7.9, ..., 7.5, 6.6, 7.4])"
      ]
     },
     "execution_count": 14,
     "metadata": {},
     "output_type": "execute_result"
    }
   ],
   "source": [
    "# numpy.ndarray\n",
    "df[\"ACC-BF5-55-E120\".replace(\"-\", \"_\")].values"
   ]
  },
  {
   "cell_type": "markdown",
   "id": "277daf58-1782-44b9-a206-d25eaf6293b0",
   "metadata": {},
   "source": [
    "## Discrete Fourier Transform (DFT)"
   ]
  },
  {
   "cell_type": "code",
   "execution_count": 15,
   "id": "d2f3336f-6670-448f-8c2a-aeb9316be426",
   "metadata": {},
   "outputs": [],
   "source": [
    "# ACC-BF4-80-E120 ist ab Mitte August 2023 größtenteils komplett kaputt\n",
    "\n",
    "# ACC-BF5-55-E120 hat Mitte August 2023 bis Mitte Oktober 2023 extrem starke Ausschläge\n",
    "# bei BF1-00-E120 sind sie weniger Stark aber trotzdem blöd und müssen raus\n",
    "# vergleich zu ACC-BF2-55-E120 da sind die nur super klein die Ausschläge und der Sensor hat fast konstante Wassergehalte über die Jahre\n",
    "# x = np.array([1,2,3,4,5,6,7,8,9,8,7,6,5,4,3,2,1])\n",
    "x = df[\"ACC-BF5-55-E120\".replace(\"-\", \"_\")].values\n",
    "\n",
    "\n",
    "x_dft = np.fft.fft(x)"
   ]
  },
  {
   "cell_type": "code",
   "execution_count": 16,
   "id": "82d7969c-79d9-450b-8b6b-b6854e86325d",
   "metadata": {},
   "outputs": [
    {
     "data": {
      "text/plain": [
       "array([nan+nanj, nan+nanj, nan+nanj, ..., nan+nanj, nan+nanj, nan+nanj])"
      ]
     },
     "execution_count": 16,
     "metadata": {},
     "output_type": "execute_result"
    }
   ],
   "source": [
    "x_dft"
   ]
  },
  {
   "cell_type": "code",
   "execution_count": 17,
   "id": "5fc007a2-c40e-4216-9a82-9fb9bbf9eb0a",
   "metadata": {},
   "outputs": [
    {
     "data": {
      "image/png": "[encoded data removed]",
      "text/plain": [
       "<Figure size 640x480 with 2 Axes>"
      ]
     },
     "metadata": {},
     "output_type": "display_data"
    }
   ],
   "source": [
    "freq = np.fft.fftfreq(x.shape[-1])\n",
    "\n",
    "fig, (ax1, ax2) = plt.subplots(nrows=2, ncols=1)\n",
    "\n",
    "ax1.plot(x, color='blue')\n",
    "ax1.set_xlabel('Timesteps')\n",
    "ax1.set_title('Original')\n",
    "\n",
    "ax2.plot(freq[1:], x_dft.real[1:], color='orange')\n",
    "ax2.set_xlabel('Frequency')\n",
    "ax2.set_title('DFT')\n",
    "\n",
    "plt.tight_layout()"
   ]
  },
  {
   "cell_type": "code",
   "execution_count": 18,
   "id": "1e6637f4-0fe4-4ef0-be8a-8600bc0db691",
   "metadata": {},
   "outputs": [
    {
     "data": {
      "text/plain": [
       "array([11.6+0.j , -2.8+1.8j, -1.6+0.j , -2.8-1.8j])"
      ]
     },
     "execution_count": 18,
     "metadata": {},
     "output_type": "execute_result"
    }
   ],
   "source": [
    "x = np.array([1.1,2.4,3.9,4.2])\n",
    "x_dft = np.fft.fft(x)\n",
    "\n",
    "x_dft"
   ]
  },
  {
   "cell_type": "markdown",
   "id": "31439806-ac2b-4e04-bb67-9c9c93585d1e",
   "metadata": {},
   "source": [
    "## Individual BOSS"
   ]
  },
  {
   "cell_type": "code",
   "execution_count": 19,
   "id": "a0207b63-49fc-4e9c-9f3b-1e12d9eca980",
   "metadata": {},
   "outputs": [],
   "source": [
    "from sktime.datasets import load_basic_motions\n",
    "\n",
    "X_train, y_train = load_basic_motions(split='train', return_type='numpy3D')\n",
    "X_test, y_test = load_basic_motions(split='test', return_type='numpy3D')\n",
    "\n",
    "uni_X_train = X_train[:, 0:1, :]\n",
    "uni_X_test = X_test[:, 0:1, :]"
   ]
  },
  {
   "cell_type": "code",
   "execution_count": 20,
   "id": "64fd02e7-efdd-4e4e-ade8-131d94ab86ec",
   "metadata": {},
   "outputs": [
    {
     "name": "stdout",
     "output_type": "stream",
     "text": [
      "{'alphabet_size': 2, 'window_size': 10, 'word_length': 2}\n",
      "0.575\n"
     ]
    }
   ],
   "source": [
    "from sklearn.model_selection import GridSearchCV\n",
    "from sklearn.model_selection import KFold\n",
    "\n",
    "from sklearn.metrics import accuracy_score\n",
    "\n",
    "from sktime.classification.dictionary_based import IndividualBOSS\n",
    "\n",
    "boss = IndividualBOSS(n_jobs=-1, random_state=42)\n",
    "\n",
    "params = {\n",
    "    'window_size': [10, 20, 30],\n",
    "    'word_length': [2,3,4],\n",
    "    'alphabet_size': [2,3,4]\n",
    "}\n",
    "\n",
    "tuned_boss = GridSearchCV(\n",
    "    boss,\n",
    "    params,\n",
    "    cv=KFold(n_splits=4)\n",
    ")\n",
    "\n",
    "tuned_boss.fit(uni_X_train, y_train)\n",
    "y_pred = tuned_boss.predict(uni_X_test)\n",
    "\n",
    "print(tuned_boss.best_params_)\n",
    "print(accuracy_score(y_test, y_pred))"
   ]
  },
  {
   "cell_type": "markdown",
   "id": "1150cb4b-3ab2-45e2-8323-b4813a1a1b72",
   "metadata": {},
   "source": [
    "## BOSS Ensemble"
   ]
  },
  {
   "cell_type": "code",
   "execution_count": 21,
   "id": "d88872bd-ee39-4b4f-88e6-710d345dbd31",
   "metadata": {},
   "outputs": [
    {
     "name": "stdout",
     "output_type": "stream",
     "text": [
      "Elapsed time: 421.0 seconds or 7.0 minutes\n",
      "{'alphabet_size': 2, 'feature_selection': 'chi2'}\n",
      "0.975\n"
     ]
    }
   ],
   "source": [
    "import time\n",
    "from sktime.classification.dictionary_based import BOSSEnsemble\n",
    "\n",
    "start = time.time()\n",
    "\n",
    "boss = BOSSEnsemble(n_jobs=-1, random_state=42)\n",
    "\n",
    "params = {\n",
    "    'alphabet_size': [2,3,4],\n",
    "    'feature_selection': [\"chi2\", \"random\"]\n",
    "}\n",
    "\n",
    "tuned_boss = GridSearchCV(\n",
    "    boss,\n",
    "    params,\n",
    "    cv=KFold(n_splits=4)\n",
    ")\n",
    "\n",
    "tuned_boss.fit(uni_X_train, y_train)\n",
    "y_pred = tuned_boss.predict(uni_X_test)\n",
    "\n",
    "end = time.time()\n",
    "\n",
    "print(f\"Elapsed time: {round(end-start,0)} seconds or {round((end-start)/60,0)} minutes\")\n",
    "print(tuned_boss.best_params_)\n",
    "print(accuracy_score(y_test, y_pred))"
   ]
  },
  {
   "cell_type": "markdown",
   "id": "d3095483-28c8-4c07-a363-8c1606fe1d8d",
   "metadata": {},
   "source": [
    "## cBOSS"
   ]
  },
  {
   "cell_type": "code",
   "execution_count": 22,
   "id": "5e3d5520-bb46-4df1-abe8-6da7a79be052",
   "metadata": {},
   "outputs": [
    {
     "name": "stdout",
     "output_type": "stream",
     "text": [
      "Elapsed time: 406.0 seconds or 7.0 minutes\n",
      "{'feature_selection': 'chi2', 'min_window': 5}\n",
      "0.975\n"
     ]
    }
   ],
   "source": [
    "from sktime.classification.dictionary_based import ContractableBOSS\n",
    "\n",
    "start = time.time()\n",
    "\n",
    "c_boss = ContractableBOSS(n_jobs=-1, random_state=42)\n",
    "\n",
    "params = {\n",
    "    'min_window': [5,10,20],\n",
    "    'feature_selection': [\"chi2\", \"random\"]\n",
    "}\n",
    "\n",
    "tuned_boss = GridSearchCV(\n",
    "    c_boss,\n",
    "    params,\n",
    "    cv=KFold(n_splits=4)\n",
    ")\n",
    "\n",
    "tuned_boss.fit(uni_X_train, y_train)\n",
    "y_pred = tuned_boss.predict(uni_X_test)\n",
    "\n",
    "end = time.time()\n",
    "\n",
    "print(f\"Elapsed time: {round(end-start,0)} seconds or {round((end-start)/60,0)} minutes\")\n",
    "print(tuned_boss.best_params_)\n",
    "print(accuracy_score(y_test, y_pred))"
   ]
  },
  {
   "cell_type": "code",
   "execution_count": null,
   "id": "c0be1e2a-1173-4b6b-833f-2b7c149ed6d7",
   "metadata": {},
   "outputs": [],
   "source": []
  }
 ],
 "metadata": {
  "kernelspec": {
   "display_name": "Python 3 (ipykernel)",
   "language": "python",
   "name": "python3"
  },
  "language_info": {
   "codemirror_mode": {
    "name": "ipython",
    "version": 3
   },
   "file_extension": ".py",
   "mimetype": "text/x-python",
   "name": "python",
   "nbconvert_exporter": "python",
   "pygments_lexer": "ipython3",
   "version": "3.10.13"
  }
 },
 "nbformat": 4,
 "nbformat_minor": 5
}
